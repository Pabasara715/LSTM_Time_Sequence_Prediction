{
  "cells": [
    {
      "cell_type": "markdown",
      "metadata": {
        "id": "TscnF29QDLWF"
      },
      "source": [
        "# **Sequence Prediction with PyTorch**"
      ]
    },
    {
      "cell_type": "markdown",
      "metadata": {
        "id": "NIOS9Sf3Fovo"
      },
      "source": [
        "Reference:\n",
        "1. https://www.kaggle.com/code/namanmanchanda/rnn-in-pytorch"
      ]
    },
    {
      "cell_type": "markdown",
      "metadata": {
        "id": "GCfQkET7qna6"
      },
      "source": [
        "### Load Necessary Libraries & Packages"
      ]
    },
    {
      "cell_type": "code",
      "execution_count": 1,
      "metadata": {
        "id": "45wUajnkmp7q"
      },
      "outputs": [
        {
          "ename": "ModuleNotFoundError",
          "evalue": "No module named 'torch'",
          "output_type": "error",
          "traceback": [
            "\u001b[1;31m---------------------------------------------------------------------------\u001b[0m",
            "\u001b[1;31mModuleNotFoundError\u001b[0m                       Traceback (most recent call last)",
            "Cell \u001b[1;32mIn[1], line 5\u001b[0m\n\u001b[0;32m      3\u001b[0m \u001b[38;5;28;01mimport\u001b[39;00m \u001b[38;5;21;01mpandas\u001b[39;00m \u001b[38;5;28;01mas\u001b[39;00m \u001b[38;5;21;01mpd\u001b[39;00m\n\u001b[0;32m      4\u001b[0m \u001b[38;5;28;01mimport\u001b[39;00m \u001b[38;5;21;01mmath\u001b[39;00m\n\u001b[1;32m----> 5\u001b[0m \u001b[38;5;28;01mimport\u001b[39;00m \u001b[38;5;21;01mtorch\u001b[39;00m\n\u001b[0;32m      6\u001b[0m \u001b[38;5;28;01mimport\u001b[39;00m \u001b[38;5;21;01mtorch\u001b[39;00m\u001b[38;5;21;01m.\u001b[39;00m\u001b[38;5;21;01mnn\u001b[39;00m \u001b[38;5;28;01mas\u001b[39;00m \u001b[38;5;21;01mnn\u001b[39;00m\n\u001b[0;32m      7\u001b[0m \u001b[38;5;28;01mimport\u001b[39;00m \u001b[38;5;21;01mmatplotlib\u001b[39;00m\u001b[38;5;21;01m.\u001b[39;00m\u001b[38;5;21;01mpyplot\u001b[39;00m \u001b[38;5;28;01mas\u001b[39;00m \u001b[38;5;21;01mplt\u001b[39;00m\n",
            "\u001b[1;31mModuleNotFoundError\u001b[0m: No module named 'torch'"
          ]
        }
      ],
      "source": [
        "# Import the necessaty packages\n",
        "import numpy as np\n",
        "import pandas as pd\n",
        "import math\n",
        "import torch\n",
        "import torch.nn as nn\n",
        "import matplotlib.pyplot as plt\n",
        "%matplotlib inline"
      ]
    },
    {
      "cell_type": "markdown",
      "metadata": {
        "id": "7Ky_YN9ornuK"
      },
      "source": [
        "## **Sine Wave Prediction**"
      ]
    },
    {
      "cell_type": "markdown",
      "metadata": {
        "id": "PQ5LKxWK7Tlc"
      },
      "source": [
        "### Generate and Visualize Data"
      ]
    },
    {
      "cell_type": "code",
      "execution_count": null,
      "metadata": {
        "id": "beuhKAiqrZcy"
      },
      "outputs": [],
      "source": [
        "# Declare the independent variable x, as a array of values between 0 and 800 (exclude)\n",
        "# https://pytorch.org/docs/stable/generated/torch.linspace.html\n",
        "\n"
      ]
    },
    {
      "cell_type": "code",
      "execution_count": null,
      "metadata": {
        "id": "9Ys_8E4PsuY3"
      },
      "outputs": [],
      "source": [
        "# Print first 10 values\n",
        "\n"
      ]
    },
    {
      "cell_type": "code",
      "execution_count": null,
      "metadata": {
        "id": "KG5MuI_ns4bE"
      },
      "outputs": [],
      "source": [
        "# Print last 10 values\n",
        "\n"
      ]
    },
    {
      "cell_type": "code",
      "execution_count": null,
      "metadata": {
        "id": "TgYv1L4itGom"
      },
      "outputs": [],
      "source": [
        "# Creat the dependent variable, y as sign values\n",
        "\n"
      ]
    },
    {
      "cell_type": "code",
      "execution_count": null,
      "metadata": {
        "id": "-0zmgW_PvYQ6"
      },
      "outputs": [],
      "source": [
        "# Plot y against x\n",
        "\n"
      ]
    },
    {
      "cell_type": "markdown",
      "metadata": {
        "id": "xb-QrOq97Ll0"
      },
      "source": [
        "### Data Pre-Processing"
      ]
    },
    {
      "cell_type": "code",
      "execution_count": null,
      "metadata": {
        "id": "3KpO04lNx5q4"
      },
      "outputs": [],
      "source": [
        "# Split the data into train/test set\n",
        "\n"
      ]
    },
    {
      "cell_type": "code",
      "execution_count": null,
      "metadata": {
        "id": "KUmL0QBO1fI9"
      },
      "outputs": [],
      "source": [
        "# Print Length of the train set\n",
        "\n"
      ]
    },
    {
      "cell_type": "code",
      "execution_count": null,
      "metadata": {
        "id": "c1lshvDW1hpA"
      },
      "outputs": [],
      "source": [
        "# Print Length of the test set\n",
        "\n"
      ]
    },
    {
      "cell_type": "code",
      "execution_count": null,
      "metadata": {
        "id": "xuKgSigO1tfa"
      },
      "outputs": [],
      "source": [
        "# Plot the training and testing sets\n",
        "\n"
      ]
    },
    {
      "cell_type": "code",
      "execution_count": null,
      "metadata": {
        "id": "djUeVhOK2yei"
      },
      "outputs": [],
      "source": [
        "# Create function to batch data\n",
        "\n",
        "def input_data(seq, ws):\n",
        "  out = []\n",
        "  L = len(seq)\n",
        "\n",
        "  for i in range(L-ws):\n",
        "    window = seq[i:i+ws]\n",
        "    label = seq[i+ws:i+ws+1]\n",
        "    out.append((window, label))\n",
        "\n",
        "  return out"
      ]
    },
    {
      "cell_type": "code",
      "execution_count": null,
      "metadata": {
        "id": "wLOw2sO96b7z"
      },
      "outputs": [],
      "source": [
        "# Split data into batches (using the above function)\n",
        "\n"
      ]
    },
    {
      "cell_type": "code",
      "execution_count": null,
      "metadata": {
        "id": "nhFpJHev62qh"
      },
      "outputs": [],
      "source": [
        "# Length of the train data\n",
        "\n"
      ]
    },
    {
      "cell_type": "code",
      "execution_count": null,
      "metadata": {
        "id": "AfRQkPrG65gd"
      },
      "outputs": [],
      "source": [
        "# Print the first batch\n",
        "\n"
      ]
    },
    {
      "cell_type": "markdown",
      "metadata": {
        "id": "0Wf-g9kt7z06"
      },
      "source": [
        "### Defining the LSTM Model"
      ]
    },
    {
      "cell_type": "code",
      "execution_count": null,
      "metadata": {
        "id": "dR0Zli6368wF"
      },
      "outputs": [],
      "source": [
        "# Define the LSTM class\n",
        "\n"
      ]
    },
    {
      "cell_type": "code",
      "execution_count": null,
      "metadata": {
        "id": "4tg25nR6Bftw"
      },
      "outputs": [],
      "source": [
        "# Instantiate tge model\n",
        "\n"
      ]
    },
    {
      "cell_type": "code",
      "execution_count": null,
      "metadata": {
        "id": "d4qkVPj4B5ZA"
      },
      "outputs": [],
      "source": [
        "# Print the LSTM model\n",
        "\n"
      ]
    },
    {
      "cell_type": "markdown",
      "metadata": {
        "id": "dgP9NXFiF2kJ"
      },
      "source": [
        "### Model Training"
      ]
    },
    {
      "cell_type": "code",
      "execution_count": null,
      "metadata": {
        "id": "K1uVw-BRE8Y-"
      },
      "outputs": [],
      "source": [
        "# Define the training loop\n",
        "\n"
      ]
    },
    {
      "cell_type": "markdown",
      "metadata": {
        "id": "vpA1LI5TRJr8"
      },
      "source": [
        "## **Prediction with Alcohol Sales Dataset**"
      ]
    },
    {
      "cell_type": "markdown",
      "metadata": {
        "id": "O0VwPpTOgtx3"
      },
      "source": [
        "### Data Loading and Visualization"
      ]
    },
    {
      "cell_type": "code",
      "execution_count": null,
      "metadata": {
        "id": "-g-WeP7-RPt0"
      },
      "outputs": [],
      "source": [
        "# Load the CSV file as a pandas dataframe\n",
        "\n"
      ]
    },
    {
      "cell_type": "code",
      "execution_count": null,
      "metadata": {
        "id": "aSbmc4QpTpKa"
      },
      "outputs": [],
      "source": [
        "# Print the datafeame\n",
        "\n"
      ]
    },
    {
      "cell_type": "code",
      "execution_count": null,
      "metadata": {
        "id": "O4UYAebWeejO"
      },
      "outputs": [],
      "source": [
        "# Print information of the dataframe\n",
        "\n"
      ]
    },
    {
      "cell_type": "code",
      "execution_count": null,
      "metadata": {
        "id": "imCFarA5ek8Z"
      },
      "outputs": [],
      "source": [
        "# Check for null values\n",
        "\n"
      ]
    },
    {
      "cell_type": "code",
      "execution_count": null,
      "metadata": {
        "id": "HnSlfP2ie63w"
      },
      "outputs": [],
      "source": [
        "# Plot the time series data\n",
        "\n"
      ]
    },
    {
      "cell_type": "markdown",
      "metadata": {
        "id": "zKEvmNhrgxqD"
      },
      "source": [
        "### Data Preprocessing"
      ]
    },
    {
      "cell_type": "code",
      "execution_count": null,
      "metadata": {
        "id": "xQ7HX7RDfiGE"
      },
      "outputs": [],
      "source": [
        "# Extract the time series values convert to float\n",
        "\n"
      ]
    },
    {
      "cell_type": "code",
      "execution_count": null,
      "metadata": {
        "id": "SEUnuQzChlkd"
      },
      "outputs": [],
      "source": [
        "# Define train set size\n",
        "\n",
        "\n",
        "# Split the data\n"
      ]
    },
    {
      "cell_type": "code",
      "execution_count": null,
      "metadata": {
        "id": "2KtAHYA_iJx0"
      },
      "outputs": [],
      "source": [
        "# Normlize the data using sklearn's MinMaxScaler (scale between -1 & 1)\n",
        "from sklearn.preprocessing import MinMaxScaler\n",
        "\n",
        "# Instantiate the scaler\n",
        "\n",
        "\n",
        "# Scale the train & test data\n"
      ]
    },
    {
      "cell_type": "code",
      "execution_count": null,
      "metadata": {
        "id": "l1uy0JVJjenw"
      },
      "outputs": [],
      "source": [
        "# Define the window size\n",
        "\n",
        "# Create batches\n"
      ]
    },
    {
      "cell_type": "code",
      "execution_count": null,
      "metadata": {
        "id": "SsCV4gjVkGxp"
      },
      "outputs": [],
      "source": [
        "# Print the fist batch\n",
        "\n"
      ]
    },
    {
      "cell_type": "markdown",
      "metadata": {
        "id": "P3K8kaKekN24"
      },
      "source": [
        "### Instantiate a LSTM model instance"
      ]
    },
    {
      "cell_type": "code",
      "execution_count": null,
      "metadata": {
        "id": "_LPPJjuAkFTc"
      },
      "outputs": [],
      "source": [
        "# Instantiate a new LSTM model instance\n"
      ]
    },
    {
      "cell_type": "code",
      "execution_count": null,
      "metadata": {
        "id": "V1P1vp5InkWi"
      },
      "outputs": [],
      "source": [
        "# Criterion and optimizer\n"
      ]
    },
    {
      "cell_type": "code",
      "execution_count": null,
      "metadata": {
        "id": "9poEP_bvlRML"
      },
      "outputs": [],
      "source": [
        "# Define the training loop\n",
        "\n"
      ]
    },
    {
      "cell_type": "markdown",
      "metadata": {
        "id": "kVEv4PZGn__E"
      },
      "source": [
        "### Model Predictions"
      ]
    },
    {
      "cell_type": "code",
      "execution_count": null,
      "metadata": {
        "id": "4qb6bS6KndPj"
      },
      "outputs": [],
      "source": [
        "# Use the trained model for predictions\n",
        "\n"
      ]
    },
    {
      "cell_type": "code",
      "execution_count": null,
      "metadata": {
        "id": "pdZtFAhopat6"
      },
      "outputs": [],
      "source": [
        "# Inverse transform the predictions\n"
      ]
    },
    {
      "cell_type": "code",
      "execution_count": null,
      "metadata": {
        "id": "qzp-va5LpK_J"
      },
      "outputs": [],
      "source": [
        "# Comparison with origial data\n"
      ]
    },
    {
      "cell_type": "code",
      "execution_count": null,
      "metadata": {
        "id": "94ygtopepTME"
      },
      "outputs": [],
      "source": [
        "# Plot the predictions on top of the training data\n",
        "\n"
      ]
    },
    {
      "cell_type": "code",
      "execution_count": null,
      "metadata": {
        "id": "fVxmvr0vrV2N"
      },
      "outputs": [],
      "source": [
        "# Plot the zoomed plot\n",
        "\n"
      ]
    }
  ],
  "metadata": {
    "colab": {
      "provenance": []
    },
    "kernelspec": {
      "display_name": "Python 3",
      "name": "python3"
    },
    "language_info": {
      "codemirror_mode": {
        "name": "ipython",
        "version": 3
      },
      "file_extension": ".py",
      "mimetype": "text/x-python",
      "name": "python",
      "nbconvert_exporter": "python",
      "pygments_lexer": "ipython3",
      "version": "3.11.5"
    }
  },
  "nbformat": 4,
  "nbformat_minor": 0
}
